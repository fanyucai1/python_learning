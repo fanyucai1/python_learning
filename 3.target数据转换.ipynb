{
 "cells": [
  {
   "cell_type": "code",
   "execution_count": 12,
   "metadata": {},
   "outputs": [],
   "source": [
    "####https://scikit-learn.org/stable/modules/preprocessing_targets.html\n",
    "####备注：这里的数据转化只针对目标数据\n",
    "from sklearn import preprocessing"
   ]
  },
  {
   "cell_type": "code",
   "execution_count": 14,
   "metadata": {},
   "outputs": [
    {
     "data": {
      "text/plain": [
       "array([[1],\n",
       "       [0],\n",
       "       [0],\n",
       "       [1]])"
      ]
     },
     "execution_count": 14,
     "metadata": {},
     "output_type": "execute_result"
    }
   ],
   "source": [
    "####方法一：二进制化\n",
    "#https://scikit-learn.org/stable/modules/generated/sklearn.preprocessing.LabelBinarizer.html#sklearn.preprocessing.LabelBinarizer\n",
    "lb = preprocessing.LabelBinarizer()\n",
    "target=['yes', 'no', 'no', 'yes']\n",
    "lb.fit_transform(target)"
   ]
  },
  {
   "cell_type": "code",
   "execution_count": 15,
   "metadata": {},
   "outputs": [
    {
     "data": {
      "text/plain": [
       "array([[1, 0, 0, 0],\n",
       "       [0, 1, 0, 0],\n",
       "       [0, 0, 0, 1],\n",
       "       [0, 0, 1, 0],\n",
       "       [0, 1, 0, 0]])"
      ]
     },
     "execution_count": 15,
     "metadata": {},
     "output_type": "execute_result"
    }
   ],
   "source": [
    "target=[1, 2, 6, 4, 2]######这个时候目标值中的组成是1，2，4，6四个数值，因此可以用4维向量组成\n",
    "lb.fit_transform(target)"
   ]
  },
  {
   "cell_type": "code",
   "execution_count": 16,
   "metadata": {},
   "outputs": [
    {
     "data": {
      "text/plain": [
       "array([0, 1, 3, 2, 1])"
      ]
     },
     "execution_count": 16,
     "metadata": {},
     "output_type": "execute_result"
    }
   ],
   "source": [
    "#https://scikit-learn.org/stable/modules/generated/sklearn.preprocessing.LabelEncoder.html#sklearn.preprocessing.LabelEncoder\n",
    "######方法二：除了进行0，1这种转化外还可以实现0到n-1的编码转化\n",
    "le= preprocessing.LabelEncoder()\n",
    "target=[1, 2, 6, 4, 2]############目标数据中是1，2，4，6四种类型数据，可以实现0-3的编码转化\n",
    "le.fit(target)\n",
    "le.transform(target)"
   ]
  },
  {
   "cell_type": "code",
   "execution_count": 25,
   "metadata": {},
   "outputs": [
    {
     "name": "stdout",
     "output_type": "stream",
     "text": [
      "0.7406426641094094\n",
      "0.7111568262433855\n"
     ]
    }
   ],
   "source": [
    "#https://scikit-learn.org/stable/modules/generated/sklearn.compose.TransformedTargetRegressor.html\n",
    "###方法三：QuantileTransformer\n",
    "#####其它转换：https://scikit-learn.org/stable/modules/generated/sklearn.preprocessing.QuantileTransformer.html#sklearn.preprocessing.QuantileTransformer\n",
    "import numpy as np\n",
    "from sklearn.datasets import load_boston\n",
    "from sklearn.compose import TransformedTargetRegressor\n",
    "from sklearn.preprocessing import QuantileTransformer\n",
    "from sklearn.linear_model import LinearRegression\n",
    "from sklearn.model_selection import train_test_split\n",
    "boston = load_boston()\n",
    "X = boston.data\n",
    "y = boston.target\n",
    "\n",
    "###########################转换之前的相关系数\n",
    "regressor = LinearRegression()\n",
    "raw= regressor.fit(X, y)\n",
    "print(raw.score(X, y))\n",
    "###########################转换之后的相关系数\n",
    "transformer = QuantileTransformer(output_distribution='normal')\n",
    "regr = TransformedTargetRegressor(regressor=regressor,transformer=transformer)\n",
    "after=regr.fit(X, y) \n",
    "print(after.score(X,y))"
   ]
  },
  {
   "cell_type": "code",
   "execution_count": 1,
   "metadata": {},
   "outputs": [
    {
     "name": "stdout",
     "output_type": "stream",
     "text": [
      "[[-1.33269291 -0.70710678]\n",
      " [ 0.25653283 -0.70710678]\n",
      " [ 1.07616008  1.41421356]]\n"
     ]
    }
   ],
   "source": [
    "#####方法四：power_transform目前只支持 Box-Cox transform and the Yeo-Johnson transform两种\n",
    "#https://scikit-learn.org/stable/modules/generated/sklearn.preprocessing.power_transform.html#sklearn.preprocessing.power_transform\n",
    "import numpy as np\n",
    "from sklearn.preprocessing import power_transform\n",
    "data = [[1, 2], [3, 2], [4, 5]]\n",
    "print(power_transform(data, method='box-cox'))  ###yeo-johnson or box-cox"
   ]
  },
  {
   "cell_type": "code",
   "execution_count": null,
   "metadata": {},
   "outputs": [],
   "source": [
    "#######备注：对于target数据转化前后的影响可以参考如下链接：\n",
    "########https://scikit-learn.org/stable/auto_examples/compose/plot_transformed_target.html#sphx-glr-auto-examples-compose-plot-transformed-target-py"
   ]
  }
 ],
 "metadata": {
  "kernelspec": {
   "display_name": "Python 3",
   "language": "python",
   "name": "python3"
  },
  "language_info": {
   "codemirror_mode": {
    "name": "ipython",
    "version": 3
   },
   "file_extension": ".py",
   "mimetype": "text/x-python",
   "name": "python",
   "nbconvert_exporter": "python",
   "pygments_lexer": "ipython3",
   "version": "3.6.6"
  }
 },
 "nbformat": 4,
 "nbformat_minor": 2
}
