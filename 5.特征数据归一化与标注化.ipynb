{
 "cells": [
  {
   "cell_type": "code",
   "execution_count": 7,
   "metadata": {},
   "outputs": [
    {
     "data": {
      "text/plain": [
       "array([[6.3200e-03, 1.8000e+01, 2.3100e+00, ..., 1.5300e+01, 3.9690e+02,\n",
       "        4.9800e+00],\n",
       "       [2.7310e-02, 0.0000e+00, 7.0700e+00, ..., 1.7800e+01, 3.9690e+02,\n",
       "        9.1400e+00],\n",
       "       [2.7290e-02, 0.0000e+00, 7.0700e+00, ..., 1.7800e+01, 3.9283e+02,\n",
       "        4.0300e+00],\n",
       "       ...,\n",
       "       [6.0760e-02, 0.0000e+00, 1.1930e+01, ..., 2.1000e+01, 3.9690e+02,\n",
       "        5.6400e+00],\n",
       "       [1.0959e-01, 0.0000e+00, 1.1930e+01, ..., 2.1000e+01, 3.9345e+02,\n",
       "        6.4800e+00],\n",
       "       [4.7410e-02, 0.0000e+00, 1.1930e+01, ..., 2.1000e+01, 3.9690e+02,\n",
       "        7.8800e+00]])"
      ]
     },
     "execution_count": 7,
     "metadata": {},
     "output_type": "execute_result"
    }
   ],
   "source": [
    "#Scale：MinMaxScaler,MaxAbsScaler(MaxAbsScaler 和 maxabs_scale这两个方法是专门为稀疏数据的规模化所设计的。如果你的数据有许多异常值可以使用robust_scale 和 RobustScaler这两个方法。它会根据中位数或者四分位数去中心化数据。)\n",
    "\n",
    "#normalize:normalize(通过减去平均值，然后除以方差，使得到的分布具有单位方差，标注化受到异常值的影响很小，经常被使用在分类与聚类中。)\n",
    "\n",
    "#https://scikit-learn.org/stable/modules/preprocessing.html\n",
    "\n",
    "from sklearn.datasets import load_boston\n",
    "from sklearn import preprocessing\n",
    "import numpy as np\n",
    "boston=load_boston()\n",
    "boston.data"
   ]
  },
  {
   "cell_type": "code",
   "execution_count": 3,
   "metadata": {},
   "outputs": [
    {
     "data": {
      "text/plain": [
       "array([[0.00000000e+00, 1.80000000e-01, 6.78152493e-02, ...,\n",
       "        2.87234043e-01, 1.00000000e+00, 8.96799117e-02],\n",
       "       [2.35922539e-04, 0.00000000e+00, 2.42302053e-01, ...,\n",
       "        5.53191489e-01, 1.00000000e+00, 2.04470199e-01],\n",
       "       [2.35697744e-04, 0.00000000e+00, 2.42302053e-01, ...,\n",
       "        5.53191489e-01, 9.89737254e-01, 6.34657837e-02],\n",
       "       ...,\n",
       "       [6.11892474e-04, 0.00000000e+00, 4.20454545e-01, ...,\n",
       "        8.93617021e-01, 1.00000000e+00, 1.07891832e-01],\n",
       "       [1.16072990e-03, 0.00000000e+00, 4.20454545e-01, ...,\n",
       "        8.93617021e-01, 9.91300620e-01, 1.31070640e-01],\n",
       "       [4.61841693e-04, 0.00000000e+00, 4.20454545e-01, ...,\n",
       "        8.93617021e-01, 1.00000000e+00, 1.69701987e-01]])"
      ]
     },
     "execution_count": 3,
     "metadata": {},
     "output_type": "execute_result"
    }
   ],
   "source": [
    "##################归一化范围[0,1]\n",
    "min_max_scaler = preprocessing.MinMaxScaler()\n",
    "X_train_minmax=min_max_scaler.fit_transform(boston.data)\n",
    "X_train_minmax"
   ]
  },
  {
   "cell_type": "code",
   "execution_count": 4,
   "metadata": {},
   "outputs": [
    {
     "data": {
      "text/plain": [
       "array([[7.10302306e-05, 1.80000000e-01, 8.32732516e-02, ...,\n",
       "        6.95454545e-01, 1.00000000e+00, 1.31156176e-01],\n",
       "       [3.06936012e-04, 0.00000000e+00, 2.54866619e-01, ...,\n",
       "        8.09090909e-01, 1.00000000e+00, 2.40716355e-01],\n",
       "       [3.06711233e-04, 0.00000000e+00, 2.54866619e-01, ...,\n",
       "        8.09090909e-01, 9.89745528e-01, 1.06136423e-01],\n",
       "       ...,\n",
       "       [6.82879242e-04, 0.00000000e+00, 4.30064888e-01, ...,\n",
       "        9.54545455e-01, 1.00000000e+00, 1.48538320e-01],\n",
       "       [1.23167768e-03, 0.00000000e+00, 4.30064888e-01, ...,\n",
       "        9.54545455e-01, 9.91307634e-01, 1.70661048e-01],\n",
       "       [5.32839119e-04, 0.00000000e+00, 4.30064888e-01, ...,\n",
       "        9.54545455e-01, 1.00000000e+00, 2.07532262e-01]])"
      ]
     },
     "execution_count": 4,
     "metadata": {},
     "output_type": "execute_result"
    }
   ],
   "source": [
    "##################归一化范围[-1,-1]\n",
    "max_abs_scaler = preprocessing.MaxAbsScaler()\n",
    "X_train_maxabs =max_abs_scaler.fit_transform(boston.data)\n",
    "X_train_maxabs"
   ]
  },
  {
   "cell_type": "code",
   "execution_count": 5,
   "metadata": {},
   "outputs": [
    {
     "data": {
      "text/plain": [
       "array([[1.26388341e-05, 3.59966795e-02, 4.61957387e-03, ...,\n",
       "        3.05971776e-02, 7.93726783e-01, 9.95908132e-03],\n",
       "       [5.78529889e-05, 0.00000000e+00, 1.49769546e-02, ...,\n",
       "        3.77071843e-02, 8.40785474e-01, 1.93620036e-02],\n",
       "       [5.85729947e-05, 0.00000000e+00, 1.51744622e-02, ...,\n",
       "        3.82044450e-02, 8.43137761e-01, 8.64965806e-03],\n",
       "       ...,\n",
       "       [1.23765824e-04, 0.00000000e+00, 2.43009593e-02, ...,\n",
       "        4.27762066e-02, 8.08470305e-01, 1.14884669e-02],\n",
       "       [2.24644719e-04, 0.00000000e+00, 2.44548909e-02, ...,\n",
       "        4.30471676e-02, 8.06519433e-01, 1.32831260e-02],\n",
       "       [9.69214289e-05, 0.00000000e+00, 2.43887924e-02, ...,\n",
       "        4.29308164e-02, 8.11392431e-01, 1.61092778e-02]])"
      ]
     },
     "execution_count": 5,
     "metadata": {},
     "output_type": "execute_result"
    }
   ],
   "source": [
    "##################normalize(通过减去平均值，然后除以方差，使得到的分布具有单位方差，标注化受到异常值的影响很小，经常被使用在分类与聚类中。)\n",
    "X_normalized = preprocessing.normalize(boston.data, norm='l2')\n",
    "X_normalized"
   ]
  },
  {
   "cell_type": "code",
   "execution_count": null,
   "metadata": {},
   "outputs": [],
   "source": []
  }
 ],
 "metadata": {
  "kernelspec": {
   "display_name": "Python 3",
   "language": "python",
   "name": "python3"
  },
  "language_info": {
   "codemirror_mode": {
    "name": "ipython",
    "version": 3
   },
   "file_extension": ".py",
   "mimetype": "text/x-python",
   "name": "python",
   "nbconvert_exporter": "python",
   "pygments_lexer": "ipython3",
   "version": "3.6.6"
  }
 },
 "nbformat": 4,
 "nbformat_minor": 2
}
